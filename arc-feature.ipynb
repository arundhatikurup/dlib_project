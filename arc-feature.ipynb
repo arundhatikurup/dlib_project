{
 "cells": [
  {
   "cell_type": "code",
   "execution_count": 1,
   "metadata": {
    "collapsed": true,
    "deletable": true,
    "editable": true
   },
   "outputs": [],
   "source": [
    "import cv2 , os\n",
    "import dlib\n",
    "import numpy \n",
    "import matplotlib.pyplot as plt\n",
    "from PIL import Image"
   ]
  },
  {
   "cell_type": "code",
   "execution_count": 2,
   "metadata": {
    "collapsed": true,
    "deletable": true,
    "editable": true
   },
   "outputs": [],
   "source": [
    "PREDICTOR_PATH = \"/home/arundhati/cv/dlib_project/shape_predictor_68_face_landmarks.dat/data\"\n",
    "\n",
    "predictor = dlib.shape_predictor(PREDICTOR_PATH)\n",
    "detector = dlib.get_frontal_face_detector()"
   ]
  },
  {
   "cell_type": "code",
   "execution_count": 39,
   "metadata": {
    "collapsed": true,
    "deletable": true,
    "editable": true
   },
   "outputs": [],
   "source": [
    "def get_landmarks(im):\n",
    "    #cv2.imshow(\"image\",im)\n",
    "    #cv2.waitKey(25)\n",
    "    try:\n",
    "        rects = detector(im, 1)\t\n",
    "        a=([[p.x, p.y] for p in predictor(im, rects[0]).parts()])\n",
    "    except IndexError :\n",
    "        pass\n",
    "\n",
    "    else :\n",
    "        return a"
   ]
  },
  {
   "cell_type": "code",
   "execution_count": 59,
   "metadata": {
    "collapsed": true,
    "deletable": true,
    "editable": true
   },
   "outputs": [],
   "source": [
    "image_path=\"/home/arundhati/cv/dlib_project/orl_faces/s1/4.pgm\"\n",
    "image_pil = Image.open(image_path).convert('L')\n",
    "image = numpy.array(image_pil, 'uint8')\n"
   ]
  },
  {
   "cell_type": "code",
   "execution_count": 60,
   "metadata": {
    "collapsed": false,
    "deletable": true,
    "editable": true
   },
   "outputs": [
    {
     "name": "stdout",
     "output_type": "stream",
     "text": [
      "68\n"
     ]
    }
   ],
   "source": [
    "landmarks=get_landmarks(image)\n",
    "print len(landmarks)"
   ]
  },
  {
   "cell_type": "code",
   "execution_count": 61,
   "metadata": {
    "collapsed": false,
    "deletable": true,
    "editable": true
   },
   "outputs": [
    {
     "name": "stdout",
     "output_type": "stream",
     "text": [
      "[0, 50]\n",
      "[1, 60]\n",
      "[4, 70]\n",
      "[6, 80]\n",
      "[10, 89]\n",
      "[16, 98]\n",
      "[23, 105]\n",
      "[32, 110]\n",
      "[41, 111]\n",
      "[52, 108]\n",
      "[64, 103]\n",
      "[75, 96]\n",
      "[83, 88]\n",
      "[88, 78]\n",
      "[91, 67]\n",
      "[92, 55]\n",
      "[92, 43]\n",
      "[0, 41]\n",
      "[3, 37]\n",
      "[9, 35]\n",
      "[16, 34]\n",
      "[23, 35]\n",
      "[37, 34]\n",
      "[46, 31]\n",
      "[55, 30]\n",
      "[65, 32]\n",
      "[73, 36]\n",
      "[30, 43]\n",
      "[29, 49]\n",
      "[28, 55]\n",
      "[27, 62]\n",
      "[23, 69]\n",
      "[27, 70]\n",
      "[31, 71]\n",
      "[36, 70]\n",
      "[41, 69]\n",
      "[7, 47]\n",
      "[12, 43]\n",
      "[17, 43]\n",
      "[23, 46]\n",
      "[18, 47]\n",
      "[12, 48]\n",
      "[46, 44]\n",
      "[51, 40]\n",
      "[58, 40]\n",
      "[64, 43]\n",
      "[58, 44]\n",
      "[52, 44]\n",
      "[21, 85]\n",
      "[24, 81]\n",
      "[28, 79]\n",
      "[32, 80]\n",
      "[36, 79]\n",
      "[43, 81]\n",
      "[51, 85]\n",
      "[44, 89]\n",
      "[38, 90]\n",
      "[33, 90]\n",
      "[29, 90]\n",
      "[25, 89]\n",
      "[23, 85]\n",
      "[29, 83]\n",
      "[33, 83]\n",
      "[37, 83]\n",
      "[48, 85]\n",
      "[37, 84]\n",
      "[32, 84]\n",
      "[29, 84]\n",
      "68\n"
     ]
    }
   ],
   "source": [
    "c=0\n",
    "for i in range(0,68,1):\n",
    "    c=c+1\n",
    "    print landmarks[i]\n",
    "print c"
   ]
  },
  {
   "cell_type": "markdown",
   "metadata": {
    "deletable": true,
    "editable": true
   },
   "source": [
    "0-16 jaw |\n",
    "17-21 rt eyebrow |\n",
    "22-26 lt eyebrow |\n",
    "27-30 nose st |\n",
    "31-35 nose curve |\n",
    "36-41 rt eye |\n",
    "42-47 lt eye |\n",
    "48-59 outer lip |\n",
    "60-67 inner lip |"
   ]
  },
  {
   "cell_type": "code",
   "execution_count": 62,
   "metadata": {
    "collapsed": false,
    "deletable": true,
    "editable": true
   },
   "outputs": [
    {
     "name": "stdout",
     "output_type": "stream",
     "text": [
      "[(0, 41), (3, 37), (9, 35), (16, 34), (23, 35)]\n",
      "[(37, 34), (46, 31), (55, 30), (65, 32), (73, 36)]\n"
     ]
    }
   ],
   "source": [
    "reb=[]\n",
    "leb=[]\n",
    "for i in range(17,22,1):\n",
    "    a=landmarks[i][0]\n",
    "    b=landmarks[i][1]\n",
    "    v=(a,b)\n",
    "    leb.append(v)\n",
    "print leb    \n",
    "\n",
    "for i in range(22,27,1):\n",
    "    a=landmarks[i][0]\n",
    "    b=landmarks[i][1]\n",
    "    v=(a,b)\n",
    "    reb.append(v)\n",
    "print reb    \n"
   ]
  },
  {
   "cell_type": "code",
   "execution_count": 63,
   "metadata": {
    "collapsed": false,
    "deletable": true,
    "editable": true
   },
   "outputs": [
    {
     "name": "stdout",
     "output_type": "stream",
     "text": [
      "25.4666910172\n"
     ]
    }
   ],
   "source": [
    "a=cv2.arcLength(numpy.array(leb),closed=False) \n",
    "print a "
   ]
  },
  {
   "cell_type": "code",
   "execution_count": 64,
   "metadata": {
    "collapsed": false,
    "deletable": true,
    "editable": true
   },
   "outputs": [
    {
     "name": "stdout",
     "output_type": "stream",
     "text": [
      "37.6845293045\n"
     ]
    }
   ],
   "source": [
    "a=cv2.arcLength(numpy.array(reb),closed=False) \n",
    "print a "
   ]
  },
  {
   "cell_type": "code",
   "execution_count": 50,
   "metadata": {
    "collapsed": false,
    "deletable": true,
    "editable": true
   },
   "outputs": [
    {
     "name": "stdout",
     "output_type": "stream",
     "text": [
      "[(7, 50), (8, 61), (10, 71), (12, 81), (15, 90), (21, 97), (28, 104), (36, 109), (45, 110), (54, 108), (62, 103), (69, 97), (75, 88), (78, 79), (80, 69), (81, 59), (82, 49)]\n"
     ]
    }
   ],
   "source": [
    "jaw=[]\n",
    "for i in range(0,17,1):\n",
    "    a=landmarks[i][0]\n",
    "    b=landmarks[i][1]\n",
    "    v=(a,b)\n",
    "    jaw.append(v)\n",
    "print jaw"
   ]
  },
  {
   "cell_type": "code",
   "execution_count": 51,
   "metadata": {
    "collapsed": false,
    "deletable": true,
    "editable": true
   },
   "outputs": [
    {
     "name": "stdout",
     "output_type": "stream",
     "text": [
      "157.011023521\n"
     ]
    }
   ],
   "source": [
    "a=cv2.arcLength(numpy.array(jaw),closed=False) \n",
    "print a "
   ]
  },
  {
   "cell_type": "code",
   "execution_count": 52,
   "metadata": {
    "collapsed": false,
    "deletable": true,
    "editable": true
   },
   "outputs": [
    {
     "name": "stdout",
     "output_type": "stream",
     "text": [
      "[(20, 52), (25, 50), (30, 49), (34, 52)]\n",
      "15.4841842651\n"
     ]
    }
   ],
   "source": [
    "re=[]\n",
    "for i in range(36,40,1):\n",
    "    a=landmarks[i][0]\n",
    "    b=landmarks[i][1]\n",
    "    v=(a,b)\n",
    "    re.append(v)\n",
    "print re    \n",
    "    \n",
    "a=cv2.arcLength(numpy.array(re),closed=False) \n",
    "print a     "
   ]
  },
  {
   "cell_type": "code",
   "execution_count": 55,
   "metadata": {
    "collapsed": false,
    "deletable": true,
    "editable": true
   },
   "outputs": [
    {
     "name": "stdout",
     "output_type": "stream",
     "text": [
      "[(20, 52), (25, 50), (30, 49), (34, 52), (30, 53), (25, 53)]\n",
      "29.7063093185\n"
     ]
    }
   ],
   "source": [
    "le=[]\n",
    "for i in range(36,42,1):\n",
    "    a=landmarks[i][0]\n",
    "    b=landmarks[i][1]\n",
    "    v=(a,b)\n",
    "    le.append(v)\n",
    "print le    \n",
    "    \n",
    "a=cv2.arcLength(numpy.array(le),closed=True) \n",
    "print a     "
   ]
  },
  {
   "cell_type": "code",
   "execution_count": 56,
   "metadata": {
    "collapsed": false,
    "deletable": true,
    "editable": true
   },
   "outputs": [
    {
     "name": "stdout",
     "output_type": "stream",
     "text": [
      "[(55, 52), (59, 49), (64, 49), (68, 51), (64, 53), (59, 53)]\n",
      "28.0673775673\n"
     ]
    }
   ],
   "source": [
    "re=[]\n",
    "for i in range(42,48,1):\n",
    "    a=landmarks[i][0]\n",
    "    b=landmarks[i][1]\n",
    "    v=(a,b)\n",
    "    re.append(v)\n",
    "print re    \n",
    "    \n",
    "a=cv2.arcLength(numpy.array(re),closed=True) \n",
    "print a   "
   ]
  }
 ],
 "metadata": {
  "kernelspec": {
   "display_name": "Python 2",
   "language": "python",
   "name": "python2"
  },
  "language_info": {
   "codemirror_mode": {
    "name": "ipython",
    "version": 2
   },
   "file_extension": ".py",
   "mimetype": "text/x-python",
   "name": "python",
   "nbconvert_exporter": "python",
   "pygments_lexer": "ipython2",
   "version": "2.7.13"
  }
 },
 "nbformat": 4,
 "nbformat_minor": 2
}
