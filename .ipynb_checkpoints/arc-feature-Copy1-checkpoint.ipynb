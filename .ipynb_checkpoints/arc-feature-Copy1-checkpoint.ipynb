{
 "cells": [
  {
   "cell_type": "code",
   "execution_count": 1,
   "metadata": {
    "collapsed": true,
    "deletable": true,
    "editable": true
   },
   "outputs": [],
   "source": [
    "import cv2 , os\n",
    "import dlib\n",
    "import numpy \n",
    "import matplotlib.pyplot as plt\n",
    "from PIL import Image"
   ]
  },
  {
   "cell_type": "code",
   "execution_count": 2,
   "metadata": {
    "collapsed": true,
    "deletable": true,
    "editable": true
   },
   "outputs": [],
   "source": [
    "PREDICTOR_PATH = \"/home/arundhati/cv/dlib_project/shape_predictor_68_face_landmarks.dat/data\"\n",
    "\n",
    "predictor = dlib.shape_predictor(PREDICTOR_PATH)\n",
    "detector = dlib.get_frontal_face_detector()"
   ]
  },
  {
   "cell_type": "code",
   "execution_count": 3,
   "metadata": {
    "collapsed": true,
    "deletable": true,
    "editable": true
   },
   "outputs": [],
   "source": [
    "def get_landmarks(im):\n",
    "    #cv2.imshow(\"image\",im)\n",
    "    #cv2.waitKey(25)\n",
    "    try:\n",
    "        rects = detector(im, 1)\t\n",
    "        a=([[p.x, p.y] for p in predictor(im, rects[0]).parts()])\n",
    "    except IndexError :\n",
    "        pass\n",
    "\n",
    "    else :\n",
    "        return a"
   ]
  },
  {
   "cell_type": "code",
   "execution_count": 4,
   "metadata": {
    "collapsed": true,
    "deletable": true,
    "editable": true
   },
   "outputs": [],
   "source": [
    "image_path=\"/home/arundhati/cv/dlib_project/orl_faces/s35/1.pgm\"\n",
    "image_pil = Image.open(image_path).convert('L')\n",
    "image = numpy.array(image_pil, 'uint8')\n"
   ]
  },
  {
   "cell_type": "code",
   "execution_count": 5,
   "metadata": {
    "collapsed": false,
    "deletable": true,
    "editable": true
   },
   "outputs": [
    {
     "name": "stdout",
     "output_type": "stream",
     "text": [
      "68\n"
     ]
    }
   ],
   "source": [
    "landmarks=get_landmarks(image)\n",
    "print len(landmarks)"
   ]
  },
  {
   "cell_type": "markdown",
   "metadata": {
    "deletable": true,
    "editable": true
   },
   "source": [
    "0-16 jaw |\n",
    "17-21 rt eyebrow |\n",
    "22-26 lt eyebrow |\n",
    "27-30 nose st |\n",
    "31-35 nose curve |\n",
    "36-41 rt eye |\n",
    "42-47 lt eye |\n",
    "48-59 outer lip |\n",
    "60-67 inner lip |"
   ]
  },
  {
   "cell_type": "code",
   "execution_count": null,
   "metadata": {
    "collapsed": true
   },
   "outputs": [],
   "source": [
    "def leb(landmarks):\n",
    "    leb=[]\n",
    "    for i in range(17,22,1):\n",
    "        a=landmarks[i][0]\n",
    "        b=landmarks[i][1]\n",
    "        v=(a,b)\n",
    "        leb.append(v)\n",
    "    #print leb \n",
    "    a=cv2.arcLength(numpy.array(leb),closed=False) \n",
    "    return a "
   ]
  },
  {
   "cell_type": "code",
   "execution_count": 18,
   "metadata": {
    "collapsed": false,
    "deletable": true,
    "editable": true
   },
   "outputs": [],
   "source": [
    "def reb(landmarks):\n",
    "    reb=[]\n",
    "    for i in range(22,27,1):\n",
    "        a=landmarks[i][0]\n",
    "        b=landmarks[i][1]\n",
    "        v=(a,b)\n",
    "        reb.append(v)\n",
    "    #print reb\n",
    "    a=cv2.arcLength(numpy.array(reb),closed=False) \n",
    "    return a "
   ]
  },
  {
   "cell_type": "code",
   "execution_count": null,
   "metadata": {
    "collapsed": true
   },
   "outputs": [],
   "source": [
    "def jaw(landmarks):\n",
    "    jaw=[]\n",
    "    for i in range(0,17,1):\n",
    "        a=landmarks[i][0]\n",
    "        b=landmarks[i][1]\n",
    "        v=(a,b)\n",
    "        jaw.append(v)\n",
    "    #print jaw\n",
    "    a=cv2.arcLength(numpy.array(jaw),closed=False) \n",
    "    return a "
   ]
  },
  {
   "cell_type": "code",
   "execution_count": 20,
   "metadata": {
    "collapsed": false,
    "deletable": true,
    "editable": true
   },
   "outputs": [],
   "source": [
    "def le(landmarks):\n",
    "    le=[]\n",
    "    for i in range(36,42,1):\n",
    "        a=landmarks[i][0]\n",
    "        b=landmarks[i][1]\n",
    "        v=(a,b)\n",
    "        le.append(v)\n",
    "    #print le    \n",
    "    a=cv2.arcLength(numpy.array(le),closed=True) \n",
    "    return a     "
   ]
  },
  {
   "cell_type": "code",
   "execution_count": 19,
   "metadata": {
    "collapsed": false,
    "deletable": true,
    "editable": true
   },
   "outputs": [],
   "source": [
    "def re(landmarks):\n",
    "    re=[]\n",
    "    for i in range(42,48,1):\n",
    "        a=landmarks[i][0]\n",
    "        b=landmarks[i][1]\n",
    "        v=(a,b)\n",
    "        re.append(v)\n",
    "    #print re      \n",
    "    a=cv2.arcLength(numpy.array(re),closed=True) \n",
    "    print a   "
   ]
  }
 ],
 "metadata": {
  "kernelspec": {
   "display_name": "Python 2",
   "language": "python",
   "name": "python2"
  },
  "language_info": {
   "codemirror_mode": {
    "name": "ipython",
    "version": 2
   },
   "file_extension": ".py",
   "mimetype": "text/x-python",
   "name": "python",
   "nbconvert_exporter": "python",
   "pygments_lexer": "ipython2",
   "version": "2.7.13"
  }
 },
 "nbformat": 4,
 "nbformat_minor": 2
}
