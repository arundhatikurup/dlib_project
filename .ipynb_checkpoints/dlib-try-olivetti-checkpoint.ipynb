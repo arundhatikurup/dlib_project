{
 "cells": [
  {
   "cell_type": "code",
   "execution_count": 9,
   "metadata": {
    "collapsed": true
   },
   "outputs": [],
   "source": [
    "import cv2 , os\n",
    "import dlib\n",
    "import numpy \n",
    "import matplotlib.pyplot as plt\n",
    "from PIL import Image\n",
    "from numpy import linalg as LA\n",
    "import time\n",
    "from sklearn.ensemble import ExtraTreesClassifier\n",
    "from sklearn.neighbors import KNeighborsClassifier\n",
    "from sklearn.model_selection import train_test_split\n"
   ]
  },
  {
   "cell_type": "code",
   "execution_count": 10,
   "metadata": {
    "collapsed": true
   },
   "outputs": [],
   "source": [
    "PREDICTOR_PATH = \"/home/arundhati/cv/dlib_project/shape_predictor_68_face_landmarks.dat/data\"\n",
    "\n",
    "predictor = dlib.shape_predictor(PREDICTOR_PATH)\n",
    "detector = dlib.get_frontal_face_detector()"
   ]
  },
  {
   "cell_type": "code",
   "execution_count": 31,
   "metadata": {
    "collapsed": false
   },
   "outputs": [],
   "source": [
    "def get_landmarks1(im):\n",
    "    try:\n",
    "        rects = detector(im, 1)\t\n",
    "        a=numpy.array([[p.x, p.y] for p in predictor(im, rects[0]).parts()])\n",
    "    except IndexError :\n",
    "        pass\n",
    "\n",
    "    else :\n",
    "        return a"
   ]
  },
  {
   "cell_type": "code",
   "execution_count": 20,
   "metadata": {
    "collapsed": false
   },
   "outputs": [],
   "source": [
    "pq=numpy.matrix([[65, 56], [42, 34], [22, 21], [31, 50], [23, 21], [35, 52], [29, 52], [26, 18], [27, 17], [3, 48], [15, 0], [33, 52], [50, 31], [27, 30], [36, 46], [50, 33], [47, 51], [2, 13], [13, 3], [26, 41], [3, 16], [50, 42], [50, 29], [24, 20], [24, 18], [22, 19], [14, 1], [20, 17], [14, 0], [17, 12], [61, 36], [33, 42], [31, 51], [52, 33], [46, 52], [55, 9], [16, 1], [29, 22], [42, 18], [42, 50], [18, 35], [32, 49], [46, 50], [44, 36], [25, 21], [53, 34], [32, 52], [17, 29], [57, 8], [19, 21], [2, 33], [28, 20], [32, 42], [27, 50], [64, 18], [33, 51], [4, 34], [51, 31], [19, 26], [50, 45], [23, 29], [0, 15], [17, 40], [17, 46], [12, 27], [38, 17], [22, 30], [16, 3], [0, 42], [2, 6], [16, 2], [46, 51], [41, 26], [26, 36], [32, 39], [17, 30], [59, 3], [19, 13], [29, 17], [21, 23], [52, 46], [40, 49], [13, 5], [17, 28], [50, 34], [17, 24], [18, 29], [4, 10], [15, 36], [6, 3], [37, 45], [30, 17], [21, 28], [17, 39], [42, 1], [40, 31], [20, 24], [36, 34], [26, 3], [40, 62], [26, 1], [46, 17], [39, 12], [33, 27], [28, 18], [61, 30], [34, 0], [2, 45], [40, 50], [28, 53], [62, 50], [34, 47], [3, 15], [50, 18], [50, 47], [53, 30], [7, 59], [62, 33], [17, 35], [30, 22], [39, 17], [15, 19], [11, 3], [56, 65], [3, 52], [52, 28], [23, 28], [62, 52], [58, 67], [8, 55], [52, 27], [36, 22], [13, 19], [26, 40], [36, 62], [45, 3], [38, 13], [24, 17], [20, 35], [33, 2], [33, 26], [30, 62], [4, 16], [3, 47], [42, 33], [56, 18], [67, 18], [29, 31], [24, 39], [41, 0], [40, 51], [15, 3], [47, 33], [1, 9], [26, 50], [4, 56], [25, 28], [33, 63], [57, 66], [46, 15], [51, 42], [64, 29], [0, 40], [61, 45], [51, 35], [34, 64], [27, 28], [33, 40], [20, 14], [49, 31], [38, 15], [28, 46], [49, 14], [49, 40], [63, 30], [16, 36], [20, 34], [36, 45], [32, 16], [22, 1], [2, 62], [42, 32], [35, 28], [50, 23], [21, 12], [44, 2], [15, 47], [41, 13], [4, 12], [36, 14], [45, 5], [27, 34], [40, 26], [33, 50], [61, 27], [20, 23], [12, 35], [51, 46], [34, 27], [41, 62]])"
   ]
  },
  {
   "cell_type": "code",
   "execution_count": 21,
   "metadata": {
    "collapsed": false
   },
   "outputs": [
    {
     "name": "stdout",
     "output_type": "stream",
     "text": [
      "200\n"
     ]
    }
   ],
   "source": [
    "print len(pq)"
   ]
  },
  {
   "cell_type": "code",
   "execution_count": 14,
   "metadata": {
    "collapsed": true
   },
   "outputs": [],
   "source": [
    "def calc(x1,x2,y1,y2):\n",
    "    v1=[x1,x2]\n",
    "    v2=[y1,y2]\n",
    "    mx=LA.norm(v1)\n",
    "    my=LA.norm(v2)\n",
    "    #print mx,my\n",
    "    a=x1/mx\n",
    "    b=x2/mx\n",
    "    c=y1/my\n",
    "    d=y2/my\n",
    "    dist=(((a-b)**2)+((c-d)**2))\n",
    "    s=numpy.sqrt(dist)\n",
    "    return dist"
   ]
  },
  {
   "cell_type": "code",
   "execution_count": null,
   "metadata": {
    "collapsed": true
   },
   "outputs": [],
   "source": []
  },
  {
   "cell_type": "code",
   "execution_count": 46,
   "metadata": {
    "collapsed": false
   },
   "outputs": [
    {
     "name": "stdout",
     "output_type": "stream",
     "text": [
      "/home/arundhati/cv/dlib_project/orl_faces/s34/10.pgm\n",
      "/home/arundhati/cv/dlib_project/orl_faces/s1/2.pgm\n",
      "/home/arundhati/cv/dlib_project/orl_faces/s33/2.pgm\n",
      "/home/arundhati/cv/dlib_project/orl_faces/s33/4.pgm\n",
      "/home/arundhati/cv/dlib_project/orl_faces/s33/6.pgm\n",
      "/home/arundhati/cv/dlib_project/orl_faces/s33/8.pgm\n",
      "/home/arundhati/cv/dlib_project/orl_faces/s33/10.pgm\n",
      "/home/arundhati/cv/dlib_project/orl_faces/s35/2.pgm\n",
      "/home/arundhati/cv/dlib_project/orl_faces/s35/4.pgm\n",
      "/home/arundhati/cv/dlib_project/orl_faces/s37/2.pgm\n",
      "/home/arundhati/cv/dlib_project/orl_faces/s37/4.pgm\n",
      "/home/arundhati/cv/dlib_project/orl_faces/s37/5.pgm\n",
      "400\n",
      "200\n",
      "['s10', 's10', 's10', 's10', 's10', 's10', 's10', 's10', 's10', 's10', 's22', 's22', 's22', 's22', 's22', 's22', 's22', 's22', 's22', 's22', 's23', 's23', 's23', 's23', 's23', 's23', 's23', 's23', 's23', 's23', 's5', 's5', 's5', 's5', 's5', 's5', 's5', 's5', 's5', 's5', 's31', 's31', 's31', 's31', 's31', 's31', 's31', 's31', 's31', 's31', 's21', 's21', 's21', 's21', 's21', 's21', 's21', 's21', 's21', 's21', 's8', 's8', 's8', 's8', 's8', 's8', 's8', 's8', 's8', 's8', 's40', 's40', 's40', 's40', 's40', 's40', 's40', 's40', 's40', 's40', 's2', 's2', 's2', 's2', 's2', 's2', 's2', 's2', 's2', 's2', 's14', 's14', 's14', 's14', 's14', 's14', 's14', 's14', 's14', 's14', 's11', 's11', 's11', 's11', 's11', 's11', 's11', 's11', 's11', 's11', 's27', 's27', 's27', 's27', 's27', 's27', 's27', 's27', 's27', 's27', 's25', 's25', 's25', 's25', 's25', 's25', 's25', 's25', 's25', 's25', 's34', 's34', 's34', 's34', 's34', 's34', 's34', 's34', 's34', 's34', 's28', 's28', 's28', 's28', 's28', 's28', 's28', 's28', 's28', 's28', 's12', 's12', 's12', 's12', 's12', 's12', 's12', 's12', 's12', 's12', 's4', 's4', 's4', 's4', 's4', 's4', 's4', 's4', 's4', 's4', 's30', 's30', 's30', 's30', 's30', 's30', 's30', 's30', 's30', 's30', 's1', 's1', 's1', 's1', 's1', 's1', 's1', 's1', 's1', 's1', 's33', 's33', 's33', 's33', 's33', 's33', 's33', 's33', 's33', 's33', 's6', 's6', 's6', 's6', 's6', 's6', 's6', 's6', 's6', 's6', 's13', 's13', 's13', 's13', 's13', 's13', 's13', 's13', 's13', 's13', 's19', 's19', 's19', 's19', 's19', 's19', 's19', 's19', 's19', 's19', 's38', 's38', 's38', 's38', 's38', 's38', 's38', 's38', 's38', 's38', 's36', 's36', 's36', 's36', 's36', 's36', 's36', 's36', 's36', 's36', 's18', 's18', 's18', 's18', 's18', 's18', 's18', 's18', 's18', 's18', 's20', 's20', 's20', 's20', 's20', 's20', 's20', 's20', 's20', 's20', 's24', 's24', 's24', 's24', 's24', 's24', 's24', 's24', 's24', 's24', 's15', 's15', 's15', 's15', 's15', 's15', 's15', 's15', 's15', 's15', 's26', 's26', 's26', 's26', 's26', 's26', 's26', 's26', 's26', 's26', 's17', 's17', 's17', 's17', 's17', 's17', 's17', 's17', 's17', 's17', 's7', 's7', 's7', 's7', 's7', 's7', 's7', 's7', 's7', 's7', 's39', 's39', 's39', 's39', 's39', 's39', 's39', 's39', 's39', 's39', 's32', 's32', 's32', 's32', 's32', 's32', 's32', 's32', 's32', 's32', 's9', 's9', 's9', 's9', 's9', 's9', 's9', 's9', 's9', 's9', 's16', 's16', 's16', 's16', 's16', 's16', 's16', 's16', 's16', 's16', 's29', 's29', 's29', 's29', 's29', 's29', 's29', 's29', 's29', 's29', 's35', 's35', 's35', 's35', 's35', 's35', 's35', 's35', 's35', 's35', 's37', 's37', 's37', 's37', 's37', 's37', 's37', 's37', 's37', 's37', 's3', 's3', 's3', 's3', 's3', 's3', 's3', 's3', 's3', 's3']\n",
      "200\n"
     ]
    }
   ],
   "source": [
    "final=[]\n",
    "feature=[]\n",
    "l=[]\n",
    "for root, dirs,files in os.walk(\"/home/arundhati/cv/dlib_project/orl_faces\"):\n",
    "    for i in dirs:\n",
    "        data=[]\n",
    "        for j in range(1,11,1):\n",
    "            feature=[]\n",
    "            p1=[]\n",
    "            image_path=\"/home/arundhati/cv/dlib_project/orl_faces\"+\"/\"+i+\"/\"+str(j)+\".pgm\"\n",
    "            #print image_path\n",
    "            image_pil = Image.open(image_path).convert('L')\n",
    "            image = numpy.array(image_pil, 'uint8')\n",
    "            l.append(i)\n",
    "            try:\n",
    "                landmarks1=get_landmarks1(image)\n",
    "                #print landmarks1\n",
    "                for point in pq:\n",
    "                    a=point[0,0]\n",
    "                    b=point[0,1]\n",
    "                    x1,y1=landmarks1[int(a)]\n",
    "                    x2,y2=landmarks1[int(b)]\n",
    "                    dist1=calc(x1,x2,y1,y2) \n",
    "                    #p1.append(dist1)\n",
    "                    feature.append(dist1)\n",
    "            except TypeError: \n",
    "                print image_path\n",
    "                pass\n",
    "            #data.append(p1) \n",
    "            final.append(feature)\n",
    "\n",
    "print len(final)\n",
    "print len(final[0])\n",
    "print l\n",
    "print len(feature)\n",
    "               "
   ]
  }
 ],
 "metadata": {
  "kernelspec": {
   "display_name": "Python 2",
   "language": "python",
   "name": "python2"
  },
  "language_info": {
   "codemirror_mode": {
    "name": "ipython",
    "version": 2
   },
   "file_extension": ".py",
   "mimetype": "text/x-python",
   "name": "python",
   "nbconvert_exporter": "python",
   "pygments_lexer": "ipython2",
   "version": "2.7.13"
  }
 },
 "nbformat": 4,
 "nbformat_minor": 2
}
